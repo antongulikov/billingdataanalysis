{
 "metadata": {
  "name": ""
 },
 "nbformat": 3,
 "nbformat_minor": 0,
 "worksheets": [
  {
   "cells": [
    {
     "cell_type": "code",
     "collapsed": false,
     "input": [
      "from openpyxl import load_workbook\n",
      "xl_files = load_workbook('./report.xlsx')"
     ],
     "language": "python",
     "metadata": {},
     "outputs": [
      {
       "output_type": "stream",
       "stream": "stderr",
       "text": [
        "/usr/local/lib/python3.4/dist-packages/openpyxl/workbook/names/named_range.py:125: UserWarning: Discarded range with reserved name\n",
        "  warnings.warn(\"Discarded range with reserved name\")\n"
       ]
      }
     ],
     "prompt_number": 1
    },
    {
     "cell_type": "code",
     "collapsed": false,
     "input": [
      "sheet = xl_files.get_sheet_by_name('SQL Results')"
     ],
     "language": "python",
     "metadata": {},
     "outputs": [],
     "prompt_number": 2
    },
    {
     "cell_type": "code",
     "collapsed": false,
     "input": [
      "class Location:\n",
      "    def __init__(self, tmp, lac, lon, lat, address):\n",
      "        self._lac = lac\n",
      "        self._tmp = tmp\n",
      "        self._lon = lon\n",
      "        self._lat = lat\n",
      "        self._address = address.replace(\",\", \"_\")\n",
      "        \n",
      "    def set_lac(self, lac):\n",
      "        self._lac = lac\n",
      "        \n",
      "    def set_lon(self, lon):\n",
      "        self._lon = lon\n",
      "    \n",
      "    def set_lan(self, lat):\n",
      "        self._lat = lat\n",
      "        \n",
      "    def set_address(self, address):\n",
      "        self._address = address\n",
      "        \n",
      "    def __eq__(self, other):\n",
      "        return self._lac == other._lac and self._address == self._address\n",
      "    \n",
      "    def __hash__(self):\n",
      "        return self._get_hash()\n",
      "    \n",
      "    def __le__(self, other):\n",
      "        if self._lac != other._lac:\n",
      "            return self._lac < other._lac\n",
      "        return self._address < other._address\n",
      "        \n",
      "    def __str__(self):\n",
      "        return \",\".join(list(map(str, [self._tmp ,self._lac, self._lon, self._lat, self._address])))\n",
      "    \n",
      "    def _get_hash(self):\n",
      "        base = int(1e9 + 7)\n",
      "        pr = 17\n",
      "        ret_hash = 0\n",
      "        for x in self._address:\n",
      "            add_value = ord(x)\n",
      "            ret_hash *= pr\n",
      "            ret_hash += add_value\n",
      "            ret_hash %= base\n",
      "        return ret_hash\n",
      "        \n",
      "    \n",
      "    def __repr__(self):\n",
      "        return str(self)                 "
     ],
     "language": "python",
     "metadata": {},
     "outputs": [],
     "prompt_number": 3
    },
    {
     "cell_type": "code",
     "collapsed": false,
     "input": [],
     "language": "python",
     "metadata": {},
     "outputs": [],
     "prompt_number": 3
    },
    {
     "cell_type": "code",
     "collapsed": false,
     "input": [],
     "language": "python",
     "metadata": {},
     "outputs": [],
     "prompt_number": 3
    },
    {
     "cell_type": "code",
     "collapsed": false,
     "input": [
      "n = len(sheet.columns[0])\n",
      "locations = set()\n",
      "for id in range(2, n + 1):\n",
      "    tmp = sheet['A' +  str(id)].value\n",
      "    lac = sheet['B'+str(id)].value\n",
      "    lon = sheet['C'+str(id)].value\n",
      "    lat = sheet['D'+str(id)].value\n",
      "    address = sheet['E'+str(id)].value    \n",
      "    loc = Location(tmp, lac, lon, lat, address)\n",
      "    try:\n",
      "        locations.add(loc)\n",
      "    except:\n",
      "        pass\n",
      "print(len(locations))"
     ],
     "language": "python",
     "metadata": {},
     "outputs": [
      {
       "output_type": "stream",
       "stream": "stdout",
       "text": [
        "4676\n"
       ]
      }
     ],
     "prompt_number": 52
    },
    {
     "cell_type": "code",
     "collapsed": false,
     "input": [
      "with open(\"locations2.csv\", \"w\") as file_csv:\n",
      "    file_csv.write('id, lac, lon, lat, adr\\n')\n",
      "    for x in locations:\n",
      "        file_csv.write(str(x))\n",
      "        file_csv.write(\"\\n\")"
     ],
     "language": "python",
     "metadata": {},
     "outputs": [],
     "prompt_number": 53
    },
    {
     "cell_type": "code",
     "collapsed": false,
     "input": [],
     "language": "python",
     "metadata": {},
     "outputs": []
    }
   ],
   "metadata": {}
  }
 ]
}