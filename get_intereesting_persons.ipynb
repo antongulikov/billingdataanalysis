{
 "metadata": {
  "name": ""
 },
 "nbformat": 3,
 "nbformat_minor": 0,
 "worksheets": [
  {
   "cells": [
    {
     "cell_type": "code",
     "collapsed": false,
     "input": [
      "import numpy as np\n",
      "import pandas as pd"
     ],
     "language": "python",
     "metadata": {},
     "outputs": [],
     "prompt_number": 1
    },
    {
     "cell_type": "code",
     "collapsed": false,
     "input": [
      "fans = set()\n",
      "data = pd.read_table(\"./petrov_data.csv\", sep=\",\", low_memory=False)"
     ],
     "language": "python",
     "metadata": {},
     "outputs": [],
     "prompt_number": 3
    },
    {
     "cell_type": "code",
     "collapsed": false,
     "input": [
      "def get_user(data):\n",
      "    stadium_lac = 7827\n",
      "    n = len(data)\n",
      "    ret = set()\n",
      "    for i in range(n):        \n",
      "        try:\n",
      "            if data['lac'][i] == str(stadium_lac):                \n",
      "                ret.add(data['code'][i])\n",
      "        except:\n",
      "            pass\n",
      "    return ret"
     ],
     "language": "python",
     "metadata": {},
     "outputs": [],
     "prompt_number": 4
    },
    {
     "cell_type": "code",
     "collapsed": false,
     "input": [
      "fans = get_user(data)"
     ],
     "language": "python",
     "metadata": {},
     "outputs": [],
     "prompt_number": 6
    },
    {
     "cell_type": "code",
     "collapsed": false,
     "input": [
      "list_fans = [x for x in fans]\n",
      "top_100 = list_fans[:100]\n",
      "data_ar = data.values"
     ],
     "language": "python",
     "metadata": {},
     "outputs": [],
     "prompt_number": 7
    },
    {
     "cell_type": "code",
     "collapsed": false,
     "input": [
      "def get_persons_inf(data, wanted):\n",
      "    n = len(data)    \n",
      "    ret = []\n",
      "    da = data.values\n",
      "    for i in range(n):\n",
      "        try:\n",
      "            if data['code'][i] in wanted:                \n",
      "                ret.append(da[i])\n",
      "        except:\n",
      "            pass\n",
      "    return ret"
     ],
     "language": "python",
     "metadata": {},
     "outputs": [],
     "prompt_number": 8
    },
    {
     "cell_type": "code",
     "collapsed": false,
     "input": [
      "interesting_events = get_persons_inf(data, top_100)\n",
      "print(len(fans))"
     ],
     "language": "python",
     "metadata": {},
     "outputs": [
      {
       "output_type": "stream",
       "stream": "stdout",
       "text": [
        "21282\n"
       ]
      }
     ],
     "prompt_number": 15
    },
    {
     "cell_type": "code",
     "collapsed": false,
     "input": [
      "coordinates = pd.read_table(\"./locations2.csv\", sep=\",\")"
     ],
     "language": "python",
     "metadata": {},
     "outputs": [],
     "prompt_number": 10
    },
    {
     "cell_type": "code",
     "collapsed": false,
     "input": [
      "coord = {}\n",
      "n_cor = len(coordinates)\n",
      "for i in range(n_cor):\n",
      "        try:\n",
      "            coord[int(coordinates['id'][i])] = (coordinates[' lon'][i], coordinates[' lat'][i])\n",
      "        except:\n",
      "            pass"
     ],
     "language": "python",
     "metadata": {},
     "outputs": [],
     "prompt_number": 11
    },
    {
     "cell_type": "code",
     "collapsed": false,
     "input": [
      "n_cor"
     ],
     "language": "python",
     "metadata": {},
     "outputs": [
      {
       "metadata": {},
       "output_type": "pyout",
       "prompt_number": 12,
       "text": [
        "4676"
       ]
      }
     ],
     "prompt_number": 12
    },
    {
     "cell_type": "code",
     "collapsed": false,
     "input": [
      "len(coord)"
     ],
     "language": "python",
     "metadata": {},
     "outputs": [
      {
       "metadata": {},
       "output_type": "pyout",
       "prompt_number": 13,
       "text": [
        "4647"
       ]
      }
     ],
     "prompt_number": 13
    },
    {
     "cell_type": "code",
     "collapsed": false,
     "input": [
      "good = set()\n",
      "for x in interesting_events:\n",
      "    try:        \n",
      "        if coord.get(int(x[2])) is not None:\n",
      "            good.add(x[2])\n",
      "    except:\n",
      "        pass"
     ],
     "language": "python",
     "metadata": {},
     "outputs": [],
     "prompt_number": 36
    },
    {
     "cell_type": "code",
     "collapsed": false,
     "input": [
      "cnt_ = 0\n",
      "dif_location = []\n",
      "for val in good:\n",
      "    key = int(val)\n",
      "    dif_location.append([coord[key][0], coord[key][1], key])\n",
      "temp1 = \"var myLatLng{0}\"\n",
      "tmp2 = \"lng: {}, lat: {}\"\n",
      "tempM = \"\"\"var marker{} = new google.maps.Marker(\"\"\"\n",
      "to = \"\"\"{\n",
      "    map: map,\"\"\"\n",
      "st2 = \"\"\"\n",
      "    position: myLatLng{0},\n",
      "    title: '{1}'\"\"\"  \n",
      "cnt_ = 0\n",
      "with open(\"geo2.html\", \"w\") as file:\n",
      "    for lng, lat, dist in dif_location:\n",
      "        cnt_ += 1\n",
      "        s1 = temp1.format(cnt_) + \" = { \" + tmp2.format(lng, lat) + \"};\\n\\n\"\n",
      "        s2 = tempM.format(cnt_) + to + st2.format(cnt_, dist) + \"\\n});\\n\\n\"\n",
      "        file.write(s1 + s2)"
     ],
     "language": "python",
     "metadata": {},
     "outputs": [],
     "prompt_number": 39
    },
    {
     "cell_type": "code",
     "collapsed": false,
     "input": [],
     "language": "python",
     "metadata": {},
     "outputs": []
    }
   ],
   "metadata": {}
  }
 ]
}